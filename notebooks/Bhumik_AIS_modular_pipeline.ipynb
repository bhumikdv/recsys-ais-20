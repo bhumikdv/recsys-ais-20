{
 "cells": [
  {
   "cell_type": "markdown",
   "metadata": {},
   "source": [
    "- Surprise package documentation : https://surprise.readthedocs.io/en/stable/"
   ]
  },
  {
   "cell_type": "markdown",
   "metadata": {},
   "source": [
    "# Instructions\n",
    "For this assignment, you will be using the modular pipeline code that we've implemented in the previous session (https://github.com/EPITA-RecSys/recsys-ais-20/blob/master/notebooks/AIS_model-pipeline.ipynb)\n",
    "\n",
    "You need to do the following tasks :\n",
    "### Implement the evaluate and benchmarking_pipeline functions\n",
    "### Extract the notebook functions in a python module and use them directly in a new notebook\n",
    "- Create a folder in the root directory called recsys.\n",
    "- In this folder, create a python module pipeline.py.\n",
    "- Extract the different functions of the AIS_model-pipeline.ipynb notebook in this new module (pipeline.py).\n",
    "- Create a new notebook where you will use the extracted benchmarking_pipeline function to do the benchamrking.\n",
    "\n",
    "### Do the benchmarking of the 5 already used models along with NMF, SVD and SVD++ surprise algorithms.\n",
    "\n",
    "## Bonus (+1 point) :\n",
    "- Generalize the train function to use any surprise model kwargs and not only the KNN model.\n",
    "\n",
    "### Note :\n",
    "If in the 1st assignment you didn't manage to do the benchmarking with bar charts, you can do it for this assignment and it will be taken into account to improve your grade for the 1st assignment."
   ]
  },
  {
   "cell_type": "markdown",
   "metadata": {},
   "source": [
    "# Pipeline"
   ]
  },
  {
   "cell_type": "markdown",
   "metadata": {},
   "source": [
    "# 1. Load data using load_builtin method"
   ]
  },
  {
   "cell_type": "code",
   "execution_count": 1,
   "metadata": {},
   "outputs": [],
   "source": [
    "# Importing files from parent directory\n",
    "\n",
    "import os, sys\n",
    "currentdir = os.path.dirname(os.path.realpath(\"pipeline.py\"))\n",
    "parentdir = os.path.dirname(currentdir)\n",
    "sys.path.append(parentdir)"
   ]
  },
  {
   "cell_type": "code",
   "execution_count": 2,
   "metadata": {},
   "outputs": [],
   "source": [
    "from recsys.pipeline import pipeline"
   ]
  },
  {
   "cell_type": "code",
   "execution_count": 3,
   "metadata": {},
   "outputs": [],
   "source": [
    "pipelineObj = pipeline()"
   ]
  },
  {
   "cell_type": "code",
   "execution_count": 4,
   "metadata": {},
   "outputs": [
    {
     "data": {
      "text/plain": [
       "<surprise.dataset.DatasetAutoFolds at 0x1b70582bf60>"
      ]
     },
     "execution_count": 4,
     "metadata": {},
     "output_type": "execute_result"
    }
   ],
   "source": [
    "ratings = pipelineObj.get_ratings(load_from_surprise=True)\n",
    "ratings"
   ]
  },
  {
   "cell_type": "markdown",
   "metadata": {},
   "source": [
    "# Split data in train and test sets"
   ]
  },
  {
   "cell_type": "code",
   "execution_count": 5,
   "metadata": {},
   "outputs": [],
   "source": [
    "# sample random trainset and testset\n",
    "# test set is made of 20% of the ratings.\n",
    "from surprise.model_selection import train_test_split\n",
    "\n",
    "trainset, testset = train_test_split(ratings, test_size=.2, random_state=42)\n"
   ]
  },
  {
   "cell_type": "code",
   "execution_count": 6,
   "metadata": {},
   "outputs": [
    {
     "data": {
      "text/plain": [
       "<surprise.trainset.Trainset at 0x1b70570e8d0>"
      ]
     },
     "execution_count": 6,
     "metadata": {},
     "output_type": "execute_result"
    }
   ],
   "source": [
    "trainset"
   ]
  },
  {
   "cell_type": "code",
   "execution_count": 7,
   "metadata": {},
   "outputs": [
    {
     "data": {
      "text/plain": [
       "(943, 1651)"
      ]
     },
     "execution_count": 7,
     "metadata": {},
     "output_type": "execute_result"
    }
   ],
   "source": [
    "trainset.n_users, trainset.n_items"
   ]
  },
  {
   "cell_type": "code",
   "execution_count": 8,
   "metadata": {},
   "outputs": [
    {
     "data": {
      "text/plain": [
       "list"
      ]
     },
     "execution_count": 8,
     "metadata": {},
     "output_type": "execute_result"
    }
   ],
   "source": [
    "type(testset)"
   ]
  },
  {
   "cell_type": "markdown",
   "metadata": {},
   "source": [
    "# 2. Model"
   ]
  },
  {
   "cell_type": "code",
   "execution_count": 9,
   "metadata": {},
   "outputs": [],
   "source": [
    "from surprise.prediction_algorithms.knns import KNNBasic # Using KNNBasic model\n",
    "from surprise.prediction_algorithms.baseline_only import BaselineOnly # Using BaselineOnly model\n",
    "from surprise.prediction_algorithms.matrix_factorization import NMF # Using NMF model\n",
    "from surprise.prediction_algorithms.matrix_factorization import SVD # Using SVD model\n",
    "from surprise.prediction_algorithms.matrix_factorization import SVDpp # Using SVDpp model"
   ]
  },
  {
   "cell_type": "markdown",
   "metadata": {},
   "source": [
    "## Train a user based model using cosine similarity"
   ]
  },
  {
   "cell_type": "code",
   "execution_count": 10,
   "metadata": {},
   "outputs": [],
   "source": [
    "sim_options_UserBased_Cosine = {'name': 'cosine',\n",
    "                                'user_based': True  # compute  similarities between user-base\n",
    "                               }"
   ]
  },
  {
   "cell_type": "code",
   "execution_count": 11,
   "metadata": {},
   "outputs": [],
   "source": [
    "UserBased_Cosine_KNNBasic = pipelineObj.set_model_parameters(KNNBasic, sim_options=sim_options_UserBased_Cosine, k=40, min_k=1)"
   ]
  },
  {
   "cell_type": "code",
   "execution_count": 12,
   "metadata": {},
   "outputs": [
    {
     "name": "stdout",
     "output_type": "stream",
     "text": [
      "Computing the cosine similarity matrix...\n",
      "Done computing similarity matrix.\n"
     ]
    }
   ],
   "source": [
    "time_UserBased_Cosine_KNNBasic, UserBased_Cosine_KNNBasic = pipelineObj.evaluate_time_and_train(UserBased_Cosine_KNNBasic, trainset)"
   ]
  },
  {
   "cell_type": "markdown",
   "metadata": {},
   "source": [
    "## Train a user based model using pearson correlation similarity"
   ]
  },
  {
   "cell_type": "code",
   "execution_count": 13,
   "metadata": {},
   "outputs": [],
   "source": [
    "sim_options_UserBased_PearsonCorrelation = {'name': 'pearson_baseline',\n",
    "                                            'user_based': True  # compute similarities between user-base\n",
    "                               }"
   ]
  },
  {
   "cell_type": "code",
   "execution_count": 14,
   "metadata": {},
   "outputs": [],
   "source": [
    "UserBased_PearsonCorrelation_KNNBasic =  pipelineObj.set_model_parameters(KNNBasic, sim_options=sim_options_UserBased_PearsonCorrelation, k=40, min_k=1)\n"
   ]
  },
  {
   "cell_type": "code",
   "execution_count": 15,
   "metadata": {},
   "outputs": [
    {
     "name": "stdout",
     "output_type": "stream",
     "text": [
      "Estimating biases using als...\n",
      "Computing the pearson_baseline similarity matrix...\n",
      "Done computing similarity matrix.\n"
     ]
    }
   ],
   "source": [
    "time_UserBased_PearsonCorrelation_KNNBasic, UserBased_PearsonCorrelation_KNNBasic = pipelineObj.evaluate_time_and_train(UserBased_PearsonCorrelation_KNNBasic, trainset)"
   ]
  },
  {
   "cell_type": "markdown",
   "metadata": {},
   "source": [
    "## Train a Item based model using cosine similarity"
   ]
  },
  {
   "cell_type": "code",
   "execution_count": 16,
   "metadata": {},
   "outputs": [],
   "source": [
    "sim_options_ItemBased_Cosine = {'name': 'cosine',\n",
    "                                'user_based': False  # compute  similarities between item-base\n",
    "                               }"
   ]
  },
  {
   "cell_type": "code",
   "execution_count": 17,
   "metadata": {},
   "outputs": [],
   "source": [
    "ItemBased_Cosine_KNNBasic = pipelineObj.set_model_parameters(KNNBasic, sim_options=sim_options_ItemBased_Cosine, k=40, min_k=1)"
   ]
  },
  {
   "cell_type": "code",
   "execution_count": 18,
   "metadata": {},
   "outputs": [
    {
     "name": "stdout",
     "output_type": "stream",
     "text": [
      "Computing the cosine similarity matrix...\n",
      "Done computing similarity matrix.\n"
     ]
    }
   ],
   "source": [
    "time_ItemBased_Cosine_KNNBasic, ItemBased_Cosine_KNNBasic = pipelineObj.evaluate_time_and_train(ItemBased_Cosine_KNNBasic, trainset)"
   ]
  },
  {
   "cell_type": "markdown",
   "metadata": {},
   "source": [
    "## Train a Item based model using pearson correlation similarity"
   ]
  },
  {
   "cell_type": "code",
   "execution_count": 19,
   "metadata": {},
   "outputs": [],
   "source": [
    "sim_options_ItemBased_PearsonCorrelation = {'name': 'pearson_baseline',\n",
    "                                            'user_based': False  # compute similarities between item-base\n",
    "                               }"
   ]
  },
  {
   "cell_type": "code",
   "execution_count": 20,
   "metadata": {},
   "outputs": [],
   "source": [
    "ItemBased_PearsonCorrelation_KNNBasic = pipelineObj.set_model_parameters(KNNBasic, sim_options=sim_options_ItemBased_PearsonCorrelation, k=40, min_k=1)"
   ]
  },
  {
   "cell_type": "code",
   "execution_count": 21,
   "metadata": {},
   "outputs": [
    {
     "name": "stdout",
     "output_type": "stream",
     "text": [
      "Estimating biases using als...\n",
      "Computing the pearson_baseline similarity matrix...\n",
      "Done computing similarity matrix.\n"
     ]
    }
   ],
   "source": [
    "time_ItemBased_PearsonCorrelation_KNNBasic, ItemBased_PearsonCorrelation_KNNBasic = pipelineObj.evaluate_time_and_train(ItemBased_PearsonCorrelation_KNNBasic, trainset)"
   ]
  },
  {
   "cell_type": "markdown",
   "metadata": {},
   "source": [
    "## Train a BaselineOnly model"
   ]
  },
  {
   "cell_type": "code",
   "execution_count": 22,
   "metadata": {},
   "outputs": [
    {
     "name": "stdout",
     "output_type": "stream",
     "text": [
      "BaselineOnly model Using SGD\n"
     ]
    }
   ],
   "source": [
    "print('BaselineOnly model Using SGD')\n",
    "bsl_options = {'method': 'sgd',\n",
    "               'learning_rate': .00005,\n",
    "               }"
   ]
  },
  {
   "cell_type": "code",
   "execution_count": 23,
   "metadata": {},
   "outputs": [],
   "source": [
    "BaselineOnlyModel =  pipelineObj.set_model_parameters(BaselineOnly, bsl_options=bsl_options)"
   ]
  },
  {
   "cell_type": "code",
   "execution_count": 24,
   "metadata": {},
   "outputs": [
    {
     "name": "stdout",
     "output_type": "stream",
     "text": [
      "Estimating biases using sgd...\n"
     ]
    }
   ],
   "source": [
    "time_BaselineOnlyModel, BaselineOnlyModel = pipelineObj.evaluate_time_and_train(BaselineOnlyModel, trainset)"
   ]
  },
  {
   "cell_type": "markdown",
   "metadata": {},
   "source": [
    "## Train a NMF model"
   ]
  },
  {
   "cell_type": "code",
   "execution_count": 25,
   "metadata": {},
   "outputs": [],
   "source": [
    "NMF_model = pipelineObj.set_model_parameters(NMF, n_factors=15, n_epochs=50, biased=False)"
   ]
  },
  {
   "cell_type": "code",
   "execution_count": 26,
   "metadata": {},
   "outputs": [],
   "source": [
    "time_NMF_model, NMF_model = pipelineObj.evaluate_time_and_train(NMF_model, trainset)"
   ]
  },
  {
   "cell_type": "markdown",
   "metadata": {},
   "source": [
    "## Train a SVD model"
   ]
  },
  {
   "cell_type": "code",
   "execution_count": 27,
   "metadata": {},
   "outputs": [],
   "source": [
    "SVD_model = pipelineObj.set_model_parameters(SVD, n_factors=15, n_epochs=50, biased=False, verbose=False)"
   ]
  },
  {
   "cell_type": "code",
   "execution_count": 28,
   "metadata": {},
   "outputs": [],
   "source": [
    "time_SVD_model, SVD_model = pipelineObj.evaluate_time_and_train(SVD_model, trainset)"
   ]
  },
  {
   "cell_type": "markdown",
   "metadata": {},
   "source": [
    "## Train a SVDpp model"
   ]
  },
  {
   "cell_type": "code",
   "execution_count": 29,
   "metadata": {},
   "outputs": [],
   "source": [
    "# It was a mistake to run with n_epochs=50, make it 20 or less (Takes a lot of time)\n",
    "SVDpp_model = pipelineObj.set_model_parameters(SVDpp, n_factors=15, n_epochs=20, init_mean=0, verbose=False)"
   ]
  },
  {
   "cell_type": "code",
   "execution_count": 30,
   "metadata": {},
   "outputs": [],
   "source": [
    "time_SVDpp_model, SVDpp_model = pipelineObj.evaluate_time_and_train(SVDpp_model, trainset)"
   ]
  },
  {
   "cell_type": "code",
   "execution_count": null,
   "metadata": {},
   "outputs": [],
   "source": []
  },
  {
   "cell_type": "markdown",
   "metadata": {},
   "source": [
    "# 3. Make predictions with the model"
   ]
  },
  {
   "cell_type": "markdown",
   "metadata": {},
   "source": [
    "## Predictions for user based model using cosine similarity"
   ]
  },
  {
   "cell_type": "code",
   "execution_count": 31,
   "metadata": {},
   "outputs": [
    {
     "data": {
      "text/plain": [
       "[Prediction(uid='907', iid='143', r_ui=5.0, est=3.9988806593226958, details={'actual_k': 40, 'was_impossible': False}),\n",
       " Prediction(uid='371', iid='210', r_ui=4.0, est=4.024195267809441, details={'actual_k': 40, 'was_impossible': False}),\n",
       " Prediction(uid='218', iid='42', r_ui=4.0, est=3.920863971521688, details={'actual_k': 40, 'was_impossible': False}),\n",
       " Prediction(uid='829', iid='170', r_ui=4.0, est=4.275899932331823, details={'actual_k': 40, 'was_impossible': False}),\n",
       " Prediction(uid='733', iid='277', r_ui=1.0, est=3.37542669272407, details={'actual_k': 40, 'was_impossible': False})]"
      ]
     },
     "execution_count": 31,
     "metadata": {},
     "output_type": "execute_result"
    }
   ],
   "source": [
    "UserBased_Cosine_KNNBasic_predictions = pipelineObj.model_prediction(UserBased_Cosine_KNNBasic, testset)\n",
    "UserBased_Cosine_KNNBasic_predictions[:5]"
   ]
  },
  {
   "cell_type": "markdown",
   "metadata": {},
   "source": [
    "## Predictions for user based model using pearson correlation similarity"
   ]
  },
  {
   "cell_type": "code",
   "execution_count": 32,
   "metadata": {},
   "outputs": [
    {
     "data": {
      "text/plain": [
       "[Prediction(uid='907', iid='143', r_ui=5.0, est=4.143168682795533, details={'actual_k': 40, 'was_impossible': False}),\n",
       " Prediction(uid='371', iid='210', r_ui=4.0, est=4.167234022563786, details={'actual_k': 40, 'was_impossible': False}),\n",
       " Prediction(uid='218', iid='42', r_ui=4.0, est=3.4775085715515153, details={'actual_k': 40, 'was_impossible': False}),\n",
       " Prediction(uid='829', iid='170', r_ui=4.0, est=4.190251707736366, details={'actual_k': 40, 'was_impossible': False}),\n",
       " Prediction(uid='733', iid='277', r_ui=1.0, est=3.434149140412287, details={'actual_k': 30, 'was_impossible': False})]"
      ]
     },
     "execution_count": 32,
     "metadata": {},
     "output_type": "execute_result"
    }
   ],
   "source": [
    "UserBased_PearsonCorrelation_KNNBasic_predictions = pipelineObj.model_prediction(UserBased_PearsonCorrelation_KNNBasic, testset)\n",
    "UserBased_PearsonCorrelation_KNNBasic_predictions[:5]"
   ]
  },
  {
   "cell_type": "markdown",
   "metadata": {},
   "source": [
    "## Predictions for Item based model using cosine similarity"
   ]
  },
  {
   "cell_type": "code",
   "execution_count": 33,
   "metadata": {},
   "outputs": [
    {
     "data": {
      "text/plain": [
       "[Prediction(uid='907', iid='143', r_ui=5.0, est=4.674038136709815, details={'actual_k': 40, 'was_impossible': False}),\n",
       " Prediction(uid='371', iid='210', r_ui=4.0, est=4.127176061681991, details={'actual_k': 40, 'was_impossible': False}),\n",
       " Prediction(uid='218', iid='42', r_ui=4.0, est=3.55351608506343, details={'actual_k': 40, 'was_impossible': False}),\n",
       " Prediction(uid='829', iid='170', r_ui=4.0, est=3.549641715257212, details={'actual_k': 40, 'was_impossible': False}),\n",
       " Prediction(uid='733', iid='277', r_ui=1.0, est=3.04966392708432, details={'actual_k': 40, 'was_impossible': False})]"
      ]
     },
     "execution_count": 33,
     "metadata": {},
     "output_type": "execute_result"
    }
   ],
   "source": [
    "ItemBased_Cosine_KNNBasic_predictions = pipelineObj.model_prediction(ItemBased_Cosine_KNNBasic, testset)\n",
    "ItemBased_Cosine_KNNBasic_predictions[:5]"
   ]
  },
  {
   "cell_type": "markdown",
   "metadata": {},
   "source": [
    "## Predictions for Item based model using pearson correlation similarity"
   ]
  },
  {
   "cell_type": "code",
   "execution_count": 34,
   "metadata": {},
   "outputs": [
    {
     "data": {
      "text/plain": [
       "[Prediction(uid='907', iid='143', r_ui=5.0, est=4.811647158658197, details={'actual_k': 40, 'was_impossible': False}),\n",
       " Prediction(uid='371', iid='210', r_ui=4.0, est=4.162009221840273, details={'actual_k': 28, 'was_impossible': False}),\n",
       " Prediction(uid='218', iid='42', r_ui=4.0, est=3.532333118071294, details={'actual_k': 32, 'was_impossible': False}),\n",
       " Prediction(uid='829', iid='170', r_ui=4.0, est=3.7923277092854133, details={'actual_k': 30, 'was_impossible': False}),\n",
       " Prediction(uid='733', iid='277', r_ui=1.0, est=3.1900565766185456, details={'actual_k': 40, 'was_impossible': False})]"
      ]
     },
     "execution_count": 34,
     "metadata": {},
     "output_type": "execute_result"
    }
   ],
   "source": [
    "ItemBased_PearsonCorrelation_KNNBasic_predictions = pipelineObj.model_prediction(ItemBased_PearsonCorrelation_KNNBasic, testset)\n",
    "ItemBased_PearsonCorrelation_KNNBasic_predictions[:5]"
   ]
  },
  {
   "cell_type": "markdown",
   "metadata": {},
   "source": [
    "## Predictions for BaselineOnly model"
   ]
  },
  {
   "cell_type": "code",
   "execution_count": 35,
   "metadata": {},
   "outputs": [
    {
     "data": {
      "text/plain": [
       "[Prediction(uid='907', iid='143', r_ui=5.0, est=3.669381430925591, details={'was_impossible': False}),\n",
       " Prediction(uid='371', iid='210', r_ui=4.0, est=3.649878804830684, details={'was_impossible': False}),\n",
       " Prediction(uid='218', iid='42', r_ui=4.0, est=3.5583648631496043, details={'was_impossible': False}),\n",
       " Prediction(uid='829', iid='170', r_ui=4.0, est=3.5818164578986074, details={'was_impossible': False}),\n",
       " Prediction(uid='733', iid='277', r_ui=1.0, est=3.4841382355265065, details={'was_impossible': False})]"
      ]
     },
     "execution_count": 35,
     "metadata": {},
     "output_type": "execute_result"
    }
   ],
   "source": [
    "BaselineOnlyModel_predictions = pipelineObj.model_prediction(BaselineOnlyModel, testset)\n",
    "BaselineOnlyModel_predictions[:5]"
   ]
  },
  {
   "cell_type": "markdown",
   "metadata": {},
   "source": [
    "## Predictions for NMF model"
   ]
  },
  {
   "cell_type": "code",
   "execution_count": 36,
   "metadata": {},
   "outputs": [
    {
     "data": {
      "text/plain": [
       "[Prediction(uid='907', iid='143', r_ui=5.0, est=4.619262824147635, details={'was_impossible': False}),\n",
       " Prediction(uid='371', iid='210', r_ui=4.0, est=4.26079434344615, details={'was_impossible': False}),\n",
       " Prediction(uid='218', iid='42', r_ui=4.0, est=4.016185004314076, details={'was_impossible': False}),\n",
       " Prediction(uid='829', iid='170', r_ui=4.0, est=3.9115539202811673, details={'was_impossible': False}),\n",
       " Prediction(uid='733', iid='277', r_ui=1.0, est=2.7856164450232264, details={'was_impossible': False})]"
      ]
     },
     "execution_count": 36,
     "metadata": {},
     "output_type": "execute_result"
    }
   ],
   "source": [
    "NMF_model_predictions = pipelineObj.model_prediction(NMF_model, testset)\n",
    "NMF_model_predictions[:5]"
   ]
  },
  {
   "cell_type": "markdown",
   "metadata": {},
   "source": [
    "## Predictions for SVD model"
   ]
  },
  {
   "cell_type": "code",
   "execution_count": 37,
   "metadata": {},
   "outputs": [
    {
     "data": {
      "text/plain": [
       "[Prediction(uid='907', iid='143', r_ui=5.0, est=4.54695770397378, details={'was_impossible': False}),\n",
       " Prediction(uid='371', iid='210', r_ui=4.0, est=4.404602446556505, details={'was_impossible': False}),\n",
       " Prediction(uid='218', iid='42', r_ui=4.0, est=3.842108245502914, details={'was_impossible': False}),\n",
       " Prediction(uid='829', iid='170', r_ui=4.0, est=3.7564428629317796, details={'was_impossible': False}),\n",
       " Prediction(uid='733', iid='277', r_ui=1.0, est=3.0805060764208676, details={'was_impossible': False})]"
      ]
     },
     "execution_count": 37,
     "metadata": {},
     "output_type": "execute_result"
    }
   ],
   "source": [
    "SVD_model_predictions = pipelineObj.model_prediction(SVD_model, testset)\n",
    "SVD_model_predictions[:5]"
   ]
  },
  {
   "cell_type": "markdown",
   "metadata": {},
   "source": [
    "## Predictions for SVDpp model"
   ]
  },
  {
   "cell_type": "code",
   "execution_count": 38,
   "metadata": {},
   "outputs": [
    {
     "data": {
      "text/plain": [
       "[Prediction(uid='907', iid='143', r_ui=5.0, est=5, details={'was_impossible': False}),\n",
       " Prediction(uid='371', iid='210', r_ui=4.0, est=4.422743152916476, details={'was_impossible': False}),\n",
       " Prediction(uid='218', iid='42', r_ui=4.0, est=3.5364756371845703, details={'was_impossible': False}),\n",
       " Prediction(uid='829', iid='170', r_ui=4.0, est=3.981095182573697, details={'was_impossible': False}),\n",
       " Prediction(uid='733', iid='277', r_ui=1.0, est=3.3320048259634145, details={'was_impossible': False})]"
      ]
     },
     "execution_count": 38,
     "metadata": {},
     "output_type": "execute_result"
    }
   ],
   "source": [
    "SVDpp_model_predictions = pipelineObj.model_prediction(SVDpp_model, testset)\n",
    "SVDpp_model_predictions[:5]"
   ]
  },
  {
   "cell_type": "code",
   "execution_count": null,
   "metadata": {},
   "outputs": [],
   "source": []
  },
  {
   "cell_type": "markdown",
   "metadata": {},
   "source": [
    "# 4. Evaluate model with RMSE, MAE"
   ]
  },
  {
   "cell_type": "markdown",
   "metadata": {},
   "source": [
    "## Evaluate model for user based model using cosine similarity"
   ]
  },
  {
   "cell_type": "code",
   "execution_count": 39,
   "metadata": {},
   "outputs": [
    {
     "name": "stdout",
     "output_type": "stream",
     "text": [
      "RMSE: 1.0194\n",
      "MAE:  0.8038\n"
     ]
    }
   ],
   "source": [
    "rmse_UserBased_Cosine_KNNBasic, mae_UserBased_Cosine_KNNBasic = pipelineObj.evaluate_model_rmse_and_mae(UserBased_Cosine_KNNBasic_predictions)"
   ]
  },
  {
   "cell_type": "markdown",
   "metadata": {},
   "source": [
    "## Evaluate model for user based model using pearson correlation similarity"
   ]
  },
  {
   "cell_type": "code",
   "execution_count": 40,
   "metadata": {},
   "outputs": [
    {
     "name": "stdout",
     "output_type": "stream",
     "text": [
      "RMSE: 1.0008\n",
      "MAE:  0.7897\n"
     ]
    }
   ],
   "source": [
    "rmse_UserBased_PearsonCorrelation, mae_UserBased_PearsonCorrelation = pipelineObj.evaluate_model_rmse_and_mae(UserBased_PearsonCorrelation_KNNBasic_predictions)"
   ]
  },
  {
   "cell_type": "markdown",
   "metadata": {},
   "source": [
    "## Evaluate model for Item based model using cosine similarity"
   ]
  },
  {
   "cell_type": "code",
   "execution_count": 41,
   "metadata": {},
   "outputs": [
    {
     "name": "stdout",
     "output_type": "stream",
     "text": [
      "RMSE: 1.0264\n",
      "MAE:  0.8104\n"
     ]
    }
   ],
   "source": [
    "rmse_ItemBased_Cosine_KNNBasic, mae_ItemBased_Cosine_KNNBasic = pipelineObj.evaluate_model_rmse_and_mae(ItemBased_Cosine_KNNBasic_predictions)"
   ]
  },
  {
   "cell_type": "markdown",
   "metadata": {},
   "source": [
    "## Evaluate model for Item based model using pearson correlation similarity"
   ]
  },
  {
   "cell_type": "code",
   "execution_count": 42,
   "metadata": {},
   "outputs": [
    {
     "name": "stdout",
     "output_type": "stream",
     "text": [
      "RMSE: 0.9956\n",
      "MAE:  0.7815\n"
     ]
    }
   ],
   "source": [
    "rmse_ItemBased_PearsonCorrelation_KNNBasic, mae_ItemBased_PearsonCorrelation_KNNBasic = pipelineObj.evaluate_model_rmse_and_mae(ItemBased_PearsonCorrelation_KNNBasic_predictions)"
   ]
  },
  {
   "cell_type": "markdown",
   "metadata": {},
   "source": [
    "## Evaluate model for BaselineOnly"
   ]
  },
  {
   "cell_type": "code",
   "execution_count": 43,
   "metadata": {},
   "outputs": [
    {
     "name": "stdout",
     "output_type": "stream",
     "text": [
      "RMSE: 1.0826\n",
      "MAE:  0.9042\n"
     ]
    }
   ],
   "source": [
    "rmse_BaselineOnlyModel, mae_BaselineOnlyModel = pipelineObj.evaluate_model_rmse_and_mae(BaselineOnlyModel_predictions)"
   ]
  },
  {
   "cell_type": "markdown",
   "metadata": {},
   "source": [
    "## Evaluate model for NMF"
   ]
  },
  {
   "cell_type": "code",
   "execution_count": 44,
   "metadata": {},
   "outputs": [
    {
     "name": "stdout",
     "output_type": "stream",
     "text": [
      "RMSE: 0.9635\n",
      "MAE:  0.7576\n"
     ]
    }
   ],
   "source": [
    "rmse_NMF_model, mae_NMF_model = pipelineObj.evaluate_model_rmse_and_mae(NMF_model_predictions)"
   ]
  },
  {
   "cell_type": "markdown",
   "metadata": {},
   "source": [
    "## Evaluate model for SVD"
   ]
  },
  {
   "cell_type": "code",
   "execution_count": 45,
   "metadata": {},
   "outputs": [
    {
     "name": "stdout",
     "output_type": "stream",
     "text": [
      "RMSE: 0.9529\n",
      "MAE:  0.7408\n"
     ]
    }
   ],
   "source": [
    "rmse_SVD_model, mae_SVD_model = pipelineObj.evaluate_model_rmse_and_mae(SVD_model_predictions)"
   ]
  },
  {
   "cell_type": "markdown",
   "metadata": {},
   "source": [
    "## Evaluate model for SVDpp"
   ]
  },
  {
   "cell_type": "code",
   "execution_count": 46,
   "metadata": {},
   "outputs": [
    {
     "name": "stdout",
     "output_type": "stream",
     "text": [
      "RMSE: 0.9144\n",
      "MAE:  0.7175\n"
     ]
    }
   ],
   "source": [
    "rmse_SVDpp_model, mae_SVDpp_model = pipelineObj.evaluate_model_rmse_and_mae(SVDpp_model_predictions)"
   ]
  },
  {
   "cell_type": "code",
   "execution_count": null,
   "metadata": {},
   "outputs": [],
   "source": []
  },
  {
   "cell_type": "markdown",
   "metadata": {},
   "source": [
    "# 5. Model Benchmarking"
   ]
  },
  {
   "cell_type": "code",
   "execution_count": 47,
   "metadata": {},
   "outputs": [],
   "source": [
    "import matplotlib.pyplot as plt"
   ]
  },
  {
   "cell_type": "code",
   "execution_count": 48,
   "metadata": {},
   "outputs": [],
   "source": [
    "# All metric appended to the list\n",
    "benchmark_metrics = ['User-based CF with cosine similarity', 'User-based CF with pearson correlation similarity', \n",
    "                     'Item-based CF with cosine similarity', 'Item-based CF with pearson correlation similarity',\n",
    "                    'BaselineOnly model','NMF', 'SVD', 'SVDpp']\n",
    "\n",
    "# All model RMSE values appended to the list\n",
    "RMSE_values = [rmse_UserBased_Cosine_KNNBasic, rmse_UserBased_PearsonCorrelation,\n",
    "              rmse_ItemBased_Cosine_KNNBasic, rmse_ItemBased_PearsonCorrelation_KNNBasic,\n",
    "               rmse_BaselineOnlyModel, rmse_NMF_model, rmse_SVD_model, rmse_SVDpp_model]\n",
    "\n",
    "# All model MAE values appended to the list\n",
    "mae_values = [mae_UserBased_Cosine_KNNBasic, mae_UserBased_PearsonCorrelation,\n",
    "              mae_ItemBased_Cosine_KNNBasic, mae_ItemBased_PearsonCorrelation_KNNBasic,\n",
    "              mae_BaselineOnlyModel, mae_NMF_model, mae_SVD_model, mae_SVDpp_model]\n",
    "\n",
    "# All model fit-time values appended to the list\n",
    "fit_time_values = [time_UserBased_Cosine_KNNBasic, time_UserBased_PearsonCorrelation_KNNBasic,\n",
    "                   time_ItemBased_Cosine_KNNBasic, time_ItemBased_PearsonCorrelation_KNNBasic,\n",
    "                   time_BaselineOnlyModel, time_NMF_model, time_SVD_model, time_SVDpp_model]"
   ]
  },
  {
   "cell_type": "code",
   "execution_count": 49,
   "metadata": {},
   "outputs": [
    {
     "name": "stdout",
     "output_type": "stream",
     "text": [
      "RMSE Values:\n",
      " [1.0193536815834319, 1.0007997542372822, 1.0264295933767333, 0.9956191381781974, 1.0826305578193065, 0.9635344989563862, 0.9528741686823096, 0.914352265499582]\n",
      "\n",
      "MAE Values:\n",
      " [0.8037993357440609, 0.7897024955421307, 0.8103814466470565, 0.7814939175231924, 0.904156628093278, 0.757613137304844, 0.7407554841741824, 0.7174930556819497]\n",
      "\n",
      "Fit-time Values:\n",
      " [1.370934247970581, 1.6477530002593994, 1.9903132915496826, 2.485670328140259, 0.30607080459594727, 4.327804327011108, 3.5986411571502686, 120.77835154533386]\n"
     ]
    }
   ],
   "source": [
    "print(\"RMSE Values:\\n\",RMSE_values)\n",
    "print(\"\\nMAE Values:\\n\",mae_values)\n",
    "print(\"\\nFit-time Values:\\n\",fit_time_values)"
   ]
  },
  {
   "cell_type": "code",
   "execution_count": null,
   "metadata": {},
   "outputs": [],
   "source": []
  },
  {
   "cell_type": "markdown",
   "metadata": {},
   "source": [
    "## Bar graph for models Vs RMSE values"
   ]
  },
  {
   "cell_type": "code",
   "execution_count": 50,
   "metadata": {},
   "outputs": [
    {
     "data": {
      "image/png": "[encoded data removed]",
      "text/plain": [
       "<Figure size 720x360 with 1 Axes>"
      ]
     },
     "metadata": {
      "needs_background": "light"
     },
     "output_type": "display_data"
    }
   ],
   "source": [
    "fig_dims = (10, 5)\n",
    "fig, ax = plt.subplots(figsize=fig_dims)\n",
    "ax.bar(benchmark_metrics,RMSE_values,color=['#f94144', '#f3722c', '#f8961e', '#f9844a', '#f9c74f','#90be6d', '#43aa8b', '#4d908e'])\n",
    "ax.set_xlabel(\"Model\", fontweight='bold')\n",
    "ax.set_ylabel(\"RMSE values\", fontweight='bold')\n",
    "ax.set_title('Accuracy by model and RMSE value', fontweight='bold')\n",
    "plt.xticks(rotation=90)\n",
    "plt.show()"
   ]
  },
  {
   "cell_type": "markdown",
   "metadata": {},
   "source": [
    "## Bar graph for models Vs MAE values"
   ]
  },
  {
   "cell_type": "code",
   "execution_count": 51,
   "metadata": {},
   "outputs": [
    {
     "data": {
      "image/png": "[encoded data removed]",
      "text/plain": [
       "<Figure size 720x360 with 1 Axes>"
      ]
     },
     "metadata": {
      "needs_background": "light"
     },
     "output_type": "display_data"
    }
   ],
   "source": [
    "fig_dims = (10, 5)\n",
    "fig, ax = plt.subplots(figsize=fig_dims)\n",
    "ax.bar(benchmark_metrics,mae_values,color=['#f94144', '#f3722c', '#f8961e', '#f9844a', '#f9c74f','#90be6d', '#43aa8b', '#4d908e'])\n",
    "ax.set_xlabel(\"Model\", fontweight='bold')\n",
    "ax.set_ylabel(\"MAE values\", fontweight='bold')\n",
    "ax.set_title('Accuracy by model and Mae value', fontweight='bold')\n",
    "plt.xticks(rotation=90)\n",
    "plt.show()"
   ]
  },
  {
   "cell_type": "markdown",
   "metadata": {},
   "source": [
    "## Bar graph for models Vs Fit-time values"
   ]
  },
  {
   "cell_type": "code",
   "execution_count": 52,
   "metadata": {
    "scrolled": false
   },
   "outputs": [
    {
     "data": {
      "image/png": "[encoded data removed]",
      "text/plain": [
       "<Figure size 720x360 with 1 Axes>"
      ]
     },
     "metadata": {
      "needs_background": "light"
     },
     "output_type": "display_data"
    }
   ],
   "source": [
    "fig_dims = (10, 5)\n",
    "fig, ax = plt.subplots(figsize=fig_dims)\n",
    "ax.bar(benchmark_metrics,fit_time_values,color=['#f94144', '#f3722c', '#f8961e', '#f9844a', '#f9c74f','#90be6d', '#43aa8b', '#4d908e'])\n",
    "ax.set_xlabel(\"Model\", fontweight='bold')\n",
    "ax.set_ylabel(\"Fit-time values\", fontweight='bold')\n",
    "ax.set_title('Accuracy by model and Fit-time value', fontweight='bold')\n",
    "plt.xticks(rotation=90)\n",
    "plt.show()"
   ]
  },
  {
   "cell_type": "code",
   "execution_count": null,
   "metadata": {},
   "outputs": [],
   "source": []
  },
  {
   "cell_type": "markdown",
   "metadata": {},
   "source": [
    "## Bar graph for models Vs RMSE, MAE, Fit-time values"
   ]
  },
  {
   "cell_type": "markdown",
   "metadata": {},
   "source": [
    "- Disclaimer: Units of RMSE, MAE, Fit-time are different, this is just for visualisation and for quick understanding of models accuracy and performance"
   ]
  },
  {
   "cell_type": "code",
   "execution_count": 56,
   "metadata": {},
   "outputs": [
    {
     "data": {
      "image/png": "[encoded data removed]",
      "text/plain": [
       "<Figure size 432x288 with 1 Axes>"
      ]
     },
     "metadata": {
      "needs_background": "light"
     },
     "output_type": "display_data"
    }
   ],
   "source": [
    "import numpy as np\n",
    "import matplotlib.pyplot as plt\n",
    "\n",
    "X = np.arange(8)\n",
    "barWidth = 0.25\n",
    "fig = plt.figure()\n",
    "ax = fig.add_axes([0,0,1,1])\n",
    "\n",
    "ax.bar(X + 0.00, RMSE_values, color = '#f94144', width = 0.25, label = 'RMSE')\n",
    "ax.bar(X + 0.25, mae_values, color = '#f3722c', width = 0.25, label = 'MAE')\n",
    "# ax.bar(X + 0.50, fit_time_values, color = 'r', width = 0.25, label = 'Fit-time')\n",
    "ax.set_title('Accuracy of model Vs RMSE, MAE, Fit-time value', fontweight='bold')\n",
    "\n",
    "plt.xlabel('Model', fontweight='bold')\n",
    "plt.xticks([r + barWidth for r in range(len(benchmark_metrics))], benchmark_metrics, rotation=90)\n",
    "plt.legend()\n",
    "plt.show()"
   ]
  },
  {
   "cell_type": "code",
   "execution_count": null,
   "metadata": {},
   "outputs": [],
   "source": []
  }
 ],
 "metadata": {
  "kernelspec": {
   "display_name": "Python 3",
   "language": "python",
   "name": "python3"
  },
  "language_info": {
   "codemirror_mode": {
    "name": "ipython",
    "version": 3
   },
   "file_extension": ".py",
   "mimetype": "text/x-python",
   "name": "python",
   "nbconvert_exporter": "python",
   "pygments_lexer": "ipython3",
   "version": "3.6.12"
  },
  "toc": {
   "base_numbering": 1,
   "nav_menu": {},
   "number_sections": true,
   "sideBar": true,
   "skip_h1_title": false,
   "title_cell": "Table of Contents",
   "title_sidebar": "Contents",
   "toc_cell": false,
   "toc_position": {},
   "toc_section_display": true,
   "toc_window_display": false
  }
 },
 "nbformat": 4,
 "nbformat_minor": 4
}
